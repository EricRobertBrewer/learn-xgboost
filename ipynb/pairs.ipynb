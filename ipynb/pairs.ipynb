{
 "cells": [
  {
   "cell_type": "code",
   "execution_count": null,
   "metadata": {},
   "outputs": [],
   "source": [
    "import os\n",
    "\n",
    "import numpy as np\n",
    "import pandas as pd"
   ]
  },
  {
   "cell_type": "code",
   "execution_count": null,
   "metadata": {},
   "outputs": [],
   "source": [
    "PAIRS_PATH = os.path.join('..', 'data', 'pairs.csv')\n",
    "df = pd.read_csv(PAIRS_PATH, header=None)\n",
    "len(df)"
   ]
  },
  {
   "cell_type": "code",
   "execution_count": null,
   "metadata": {},
   "outputs": [],
   "source": [
    "df.head()"
   ]
  },
  {
   "cell_type": "code",
   "execution_count": null,
   "metadata": {},
   "outputs": [],
   "source": [
    "df.tail()"
   ]
  },
  {
   "cell_type": "code",
   "execution_count": null,
   "metadata": {},
   "outputs": [],
   "source": [
    "row_nan_counts = [row.isnull().sum() for _, row in df.iterrows()]"
   ]
  },
  {
   "cell_type": "code",
   "execution_count": null,
   "metadata": {},
   "outputs": [],
   "source": [
    "least_nan_index = np.argmin(row_nan_counts)\n",
    "print('Row index that is least empty: {:d}'.format(least_nan_index))\n",
    "print('Number of missing values: {:d}'.format(df.iloc[least_nan_index].isnull().sum()))\n",
    "df.iloc[least_nan_index]"
   ]
  },
  {
   "cell_type": "code",
   "execution_count": null,
   "metadata": {},
   "outputs": [],
   "source": [
    "most_nan_index = np.argmax(row_nan_counts)\n",
    "print('Row index that is most empty: {:d}'.format(most_nan_index))\n",
    "print('Number of missing values: {:d}'.format(df.iloc[most_nan_index].isnull().sum()))\n",
    "df.iloc[most_nan_index]"
   ]
  },
  {
   "cell_type": "code",
   "execution_count": null,
   "metadata": {},
   "outputs": [],
   "source": [
    "# See (column_number, number_of_empty_values_in_column)\n",
    "col_nan_counts = [(i, col.isnull().sum()) for i, col in df.iteritems()]\n",
    "col_nan_counts"
   ]
  },
  {
   "cell_type": "code",
   "execution_count": null,
   "metadata": {},
   "outputs": [],
   "source": []
  }
 ],
 "metadata": {
  "kernelspec": {
   "display_name": "Python 3",
   "language": "python",
   "name": "python3"
  },
  "language_info": {
   "codemirror_mode": {
    "name": "ipython",
    "version": 3
   },
   "file_extension": ".py",
   "mimetype": "text/x-python",
   "name": "python",
   "nbconvert_exporter": "python",
   "pygments_lexer": "ipython3",
   "version": "3.7.4"
  }
 },
 "nbformat": 4,
 "nbformat_minor": 2
}
